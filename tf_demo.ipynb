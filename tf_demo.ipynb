{
 "cells": [
  {
   "cell_type": "code",
   "execution_count": 1,
   "metadata": {
    "collapsed": true
   },
   "outputs": [],
   "source": [
    "import tensorflow as tf"
   ]
  },
  {
   "cell_type": "code",
   "execution_count": 2,
   "metadata": {},
   "outputs": [
    {
     "name": "stdout",
     "output_type": "stream",
     "text": [
      "b'Hello, Tensorflow!'\n"
     ]
    }
   ],
   "source": [
    "import tensorflow as tf\n",
    "hello = tf.constant('Hello, Tensorflow!')\n",
    "sess = tf.Session()\n",
    "print(sess.run(hello))"
   ]
  },
  {
   "cell_type": "code",
   "execution_count": 3,
   "metadata": {},
   "outputs": [
    {
     "name": "stdout",
     "output_type": "stream",
     "text": [
      "5\n"
     ]
    }
   ],
   "source": [
    "a = tf.constant (3)\n",
    "b = tf.constant (2)\n",
    "c = a + b\n",
    "sess = tf.Session ()\n",
    "print (sess.run(c))"
   ]
  },
  {
   "cell_type": "code",
   "execution_count": 4,
   "metadata": {},
   "outputs": [
    {
     "name": "stdout",
     "output_type": "stream",
     "text": [
      "Tensor(\"Const_1:0\", shape=(), dtype=int32) Tensor(\"Const_2:0\", shape=(), dtype=int32)\n"
     ]
    }
   ],
   "source": [
    "print(a, b)"
   ]
  },
  {
   "cell_type": "code",
   "execution_count": 5,
   "metadata": {},
   "outputs": [
    {
     "name": "stdout",
     "output_type": "stream",
     "text": [
      "5\n"
     ]
    }
   ],
   "source": [
    "a = tf.placeholder(tf.int32)\n",
    "b = tf.placeholder(tf.int32)\n",
    "c = a + b\n",
    "sess = tf.InteractiveSession()\n",
    "print (c.eval ({a:3, b:2}))"
   ]
  },
  {
   "cell_type": "code",
   "execution_count": 6,
   "metadata": {},
   "outputs": [
    {
     "name": "stdout",
     "output_type": "stream",
     "text": [
      "5\n"
     ]
    }
   ],
   "source": [
    "a = tf.Variable (3)\n",
    "b = tf.Variable (2)\n",
    "c = a + b\n",
    "init = tf.global_variables_initializer()\n",
    "sess = tf.InteractiveSession()\n",
    "init.run()\n",
    "print(c.eval())"
   ]
  },
  {
   "cell_type": "code",
   "execution_count": 9,
   "metadata": {},
   "outputs": [
    {
     "name": "stdout",
     "output_type": "stream",
     "text": [
      "Extracting MNIST_data/train-images-idx3-ubyte.gz\n",
      "Extracting MNIST_data/train-labels-idx1-ubyte.gz\n",
      "Extracting MNIST_data/t10k-images-idx3-ubyte.gz\n",
      "Extracting MNIST_data/t10k-labels-idx1-ubyte.gz\n",
      "0.8704\n"
     ]
    }
   ],
   "source": [
    "from tensorflow.examples.tutorials.mnist import input_data\n",
    "mnist = input_data.read_data_sets(\"MNIST_data/\", one_hot=True)\n",
    "\n",
    "x = tf.placeholder(tf.float32, [None, 784])\n",
    "y_ = tf.placeholder(tf.float32, [None, 10])\n",
    "\n",
    "# model\n",
    "W = tf.Variable(tf.zeros([784, 10]))\n",
    "b = tf.Variable(tf.zeros([10]))\n",
    "y = tf.matmul(x, W) + b\n",
    "\n",
    "# loss function\n",
    "loss = tf.reduce_mean(tf.nn.softmax_cross_entropy_with_logits(labels = y_, logits = y))\n",
    "\n",
    "# optimizer\n",
    "optimizer = tf.train.GradientDescentOptimizer(0.1).minimize(loss)\n",
    "\n",
    "sess = tf.InteractiveSession()\n",
    "tf.global_variables_initializer().run()\n",
    "\n",
    "# train\n",
    "for _ in range(1000):\n",
    "    batch_xs, batch_ys = mnist.train.next_batch(100)\n",
    "    sess.run(optimizer, feed_dict={x: batch_xs, y_: batch_ys})\n",
    "\n",
    "# test\n",
    "correct_prediction = tf.equal(tf.argmax(y, 1), tf.argmax(y_, 1))\n",
    "accuracy = tf.reduce_mean(tf.cast(correct_prediction, tf.float32))\n",
    "print(sess.run(accuracy, feed_dict={x: mnist.test.images, y_: mnist.test.labels}))"
   ]
  },
  {
   "cell_type": "code",
   "execution_count": 15,
   "metadata": {},
   "outputs": [
    {
     "name": "stdout",
     "output_type": "stream",
     "text": [
      "Epoch: 0001 cost= 3.143224716\n",
      "Train accuracy: 0.889379 Validation accuracy: 0.879415\n",
      "Epoch: 0002 cost= 1.334798472\n",
      "Train accuracy: 0.889379 Validation accuracy: 0.879415\n",
      "Epoch: 0003 cost= 0.956105854\n",
      "Train accuracy: 0.889379 Validation accuracy: 0.879415\n",
      "Epoch: 0004 cost= 0.770319079\n",
      "Train accuracy: 0.889379 Validation accuracy: 0.879415\n",
      "Epoch: 0005 cost= 0.681618708\n",
      "Train accuracy: 0.889379 Validation accuracy: 0.879415\n",
      "Epoch: 0006 cost= 0.641146217\n",
      "Train accuracy: 0.889379 Validation accuracy: 0.879415\n",
      "Epoch: 0007 cost= 0.622480631\n",
      "Train accuracy: 0.889379 Validation accuracy: 0.879415\n",
      "Epoch: 0008 cost= 0.612502124\n",
      "Train accuracy: 0.889379 Validation accuracy: 0.879415\n",
      "Epoch: 0009 cost= 0.607418537\n",
      "Train accuracy: 0.889379 Validation accuracy: 0.879415\n",
      "Epoch: 0010 cost= 0.603723892\n",
      "Train accuracy: 0.889379 Validation accuracy: 0.879415\n",
      "Epoch: 0011 cost= 0.602296591\n",
      "Train accuracy: 0.889379 Validation accuracy: 0.879415\n",
      "Epoch: 0012 cost= 0.601045719\n",
      "Train accuracy: 0.889379 Validation accuracy: 0.879415\n",
      "Epoch: 0013 cost= 0.601119263\n",
      "Train accuracy: 0.889379 Validation accuracy: 0.879415\n",
      "Epoch: 0014 cost= 0.600510648\n",
      "Train accuracy: 0.889379 Validation accuracy: 0.879415\n",
      "Epoch: 0015 cost= 0.600815909\n",
      "Train accuracy: 0.889379 Validation accuracy: 0.879415\n",
      "Optimization Finished!\n"
     ]
    }
   ],
   "source": []
  },
  {
   "cell_type": "code",
   "execution_count": null,
   "metadata": {
    "collapsed": true
   },
   "outputs": [],
   "source": []
  }
 ],
 "metadata": {
  "kernelspec": {
   "display_name": "Python 3",
   "language": "python",
   "name": "python3"
  },
  "language_info": {
   "codemirror_mode": {
    "name": "ipython",
    "version": 3
   },
   "file_extension": ".py",
   "mimetype": "text/x-python",
   "name": "python",
   "nbconvert_exporter": "python",
   "pygments_lexer": "ipython3",
   "version": "3.5.3"
  }
 },
 "nbformat": 4,
 "nbformat_minor": 2
}
